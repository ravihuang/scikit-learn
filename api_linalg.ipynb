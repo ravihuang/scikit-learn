{
  "metadata" : {
    "config" : {
      "dependencies" : {
        
      },
      "exclusions" : [
      ],
      "repositories" : [
      ],
      "sparkConfig" : {
        
      }
    }
  },
  "nbformat" : 4,
  "nbformat_minor" : 0,
  "cells" : [
    {
      "cell_type" : "markdown",
      "execution_count" : 0,
      "metadata" : {
        "language" : "text"
      },
      "language" : "text",
      "source" : [
        "# 线性代数\n",
        "\n",
        "\n",
        "<br>\n",
        "\n",
        "\n"
      ],
      "outputs" : [
      ]
    },
    {
      "cell_type" : "code",
      "execution_count" : 2,
      "metadata" : {
        "cell.metadata.exec_info" : {
          "startTs" : 1575961258943,
          "endTs" : 1575961259240
        },
        "language" : "python"
      },
      "language" : "python",
      "source" : [
        "a = np.array([[1,2],[3,4]]) \r\n",
        "b = np.array([[11,12],[13,14]]) \r\n",
        "c=np.array([1,2,3,4])\r\n",
        "d=np.array([11,12,13,14])\r\n",
        "print('一维数组的向量内积:',np.inner(c,d),np.dot(c,d),np.matmul(c,d))\r\n",
        "print('二维数组的向量内积:',np.vdot(a,b))\r\n",
        "\r\n",
        "# 外积\r\n",
        "print('[[1*11+2*13, 1*12+2*14]\\n[3*11+4*13, 3*12+4*14]]\\n---\\n',np.dot(a,b),np.matmul(a,b),sep='\\n---\\n')\r\n",
        "\r\n",
        "e=[1,2]\r\n",
        "print('如果任一参数是一维数组，则通过在其维度上附加1来将其提升为矩阵，并在乘法之后被去除:')\r\n",
        "print('%s*%s=%s'%(a,e,np.matmul(a,e)))\r\n",
        "print('%s*%s=%s'%(e,a,np.matmul(e,a)))\r\n",
        "\r\n",
        "print('等价于：',np.dot(a,e),np.dot(e,a))\r\n",
        "\r\n"
      ],
      "outputs" : [
        {
          "name" : "stdout",
          "text" : [
            "一维数组的向量内积:",
            " ",
            "130",
            " ",
            "130",
            " ",
            "130",
            "\n",
            "二维数组的向量内积:",
            " ",
            "130",
            "\n",
            "[[1*11+2*13, 1*12+2*14]\n",
            "[3*11+4*13, 3*12+4*14]]\n",
            "---\n",
            "\n",
            "---\n",
            "[[37 40]\n",
            " [85 92]]",
            "\n",
            "---\n",
            "[[37 40]\n",
            " [85 92]]",
            "\n",
            "如果任一参数是一维数组，则通过在其维度上附加1来将其提升为矩阵，并在乘法之后被去除:",
            "\n",
            "[[1 2]\n",
            " [3 4]]*[1, 2]=[ 5 11]",
            "\n",
            "[1, 2]*[[1 2]\n",
            " [3 4]]=[ 7 10]",
            "\n",
            "等价于：",
            " ",
            "[ 5 11]",
            " ",
            "[ 7 10]",
            "\n"
          ],
          "output_type" : "stream"
        }
      ]
    },
    {
      "cell_type" : "code",
      "execution_count" : 3,
      "metadata" : {
        "cell.metadata.exec_info" : {
          "startTs" : 1575349036319,
          "endTs" : 1575349036410
        },
        "language" : "python"
      },
      "language" : "python",
      "source" : [
        "#有的矩阵没有逆矩阵\r\n",
        "A = np.array([[0, 1,2],\r\n",
        "              [1, 0,3],\r\n",
        "              [4,-3,8]])\r\n",
        "B=np.linalg.inv(A)     #B是A的逆矩阵，AB=BA=E\r\n",
        "# A.dot(B)=np.dot(A,B)=A@B (叉乘 or 点积：各元素相乘后相加, 要求第一个矩阵的列数等于第二个矩阵的行数)\r\n",
        "# A*B=np.multiply(A,B) (点乘：各对应位置元素相乘，要求两个矩阵大小相同)\r\n",
        "print('ndarray乘法： ',A,B,A*B,A.dot(B),A@B,sep='\\n---\\n')\r\n",
        "print('转置矩阵： \\n',A.T)\r\n",
        "\r\n",
        "A = np.eye(3)           # 3阶单位矩阵\r\n",
        "print(np.linalg.inv(A)) # 单位矩阵的逆为他本身\r\n",
        "print(\"转化成matrix的2种方法：\",np.asmatrix(A), np.mat(A),sep='\\n---\\n')"
      ],
      "outputs" : [
        {
          "name" : "stdout",
          "text" : [
            "ndarray乘法： \n",
            "---\n",
            "[[ 0  1  2]\n",
            " [ 1  0  3]\n",
            " [ 4 -3  8]]\n",
            "---\n",
            "[[-4.5  7.  -1.5]\n",
            " [-2.   4.  -1. ]\n",
            " [ 1.5 -2.   0.5]]\n",
            "---\n",
            "[[-0.  7. -3.]\n",
            " [-2.  0. -3.]\n",
            " [ 6.  6.  4.]]\n",
            "---\n",
            "[[1. 0. 0.]\n",
            " [0. 1. 0.]\n",
            " [0. 0. 1.]]\n",
            "---\n",
            "[[1. 0. 0.]\n",
            " [0. 1. 0.]\n",
            " [0. 0. 1.]]\n",
            "转置矩阵： \n",
            " [[ 0  1  4]\n",
            " [ 1  0 -3]\n",
            " [ 2  3  8]]\n",
            "[[1. 0. 0.]\n",
            " [0. 1. 0.]\n",
            " [0. 0. 1.]]\n",
            "转化成matrix的2种方法：\n",
            "---\n",
            "[[1. 0. 0.]\n",
            " [0. 1. 0.]\n",
            " [0. 0. 1.]]\n",
            "---\n",
            "[[1. 0. 0.]\n",
            " [0. 1. 0.]\n",
            " [0. 0. 1.]]\n"
          ],
          "output_type" : "stream"
        }
      ]
    },
    {
      "cell_type" : "code",
      "execution_count" : 4,
      "metadata" : {
        "cell.metadata.exec_info" : {
          "startTs" : 1575356981851,
          "endTs" : 1575356981917
        },
        "language" : "python"
      },
      "language" : "python",
      "source" : [
        "#matrix: \r\n",
        "A = np.mat(\"0 1 2;1 0 3;4 -3 8\")\r\n",
        "B = np.linalg.inv(A)\r\n",
        "# A*B=np.dot(A,B)=A.dot(B)  (都表示叉乘，各元素相乘后相加)\r\n",
        "# np=np.multiply(A,B)       (点乘要用multiply函数)\r\n",
        "print ('matrix乘法： ',A,B,A * B, A.dot(B),np.multiply(A,B),sep='\\n---\\n')\r\n",
        "print('转置矩阵： \\n',A.T)  # 行和列互相交换\r\n",
        "print('共轭矩阵： \\n',A.H)\r\n",
        "print('逆矩阵： \\n',A.I)\r\n",
        "print(\"转化成ndarray： \\n\",np.asarray(A))\r\n",
        "\r\n",
        "# 使用pinv函数计算广义逆矩阵\r\n",
        "print ('inv函数只接受方阵作为输入矩阵，而pinv函数则没有这个限制: \\n',np.linalg.pinv(A))\r\n",
        "\r\n"
      ],
      "outputs" : [
        {
          "name" : "stdout",
          "text" : [
            "matrix乘法： \n",
            "---\n",
            "[[ 0  1  2]\n",
            " [ 1  0  3]\n",
            " [ 4 -3  8]]\n",
            "---\n",
            "[[-4.5  7.  -1.5]\n",
            " [-2.   4.  -1. ]\n",
            " [ 1.5 -2.   0.5]]\n",
            "---\n",
            "[[1. 0. 0.]\n",
            " [0. 1. 0.]\n",
            " [0. 0. 1.]]\n",
            "---\n",
            "[[1. 0. 0.]\n",
            " [0. 1. 0.]\n",
            " [0. 0. 1.]]\n",
            "---\n",
            "[[-0.  7. -3.]\n",
            " [-2.  0. -3.]\n",
            " [ 6.  6.  4.]]\n",
            "转置矩阵： \n",
            " [[ 0  1  4]\n",
            " [ 1  0 -3]\n",
            " [ 2  3  8]]\n",
            "共轭矩阵： \n",
            " [[ 0  1  4]\n",
            " [ 1  0 -3]\n",
            " [ 2  3  8]]\n",
            "逆矩阵： \n",
            " [[-4.5  7.  -1.5]\n",
            " [-2.   4.  -1. ]\n",
            " [ 1.5 -2.   0.5]]\n",
            "转化成ndarray： \n",
            " [[ 0  1  2]\n",
            " [ 1  0  3]\n",
            " [ 4 -3  8]]\n",
            "inv函数只接受方阵作为输入矩阵，而pinv函数则没有这个限制:  [[-4.5  7.  -1.5]\n",
            " [-2.   4.  -1. ]\n",
            " [ 1.5 -2.   0.5]]\n"
          ],
          "output_type" : "stream"
        }
      ]
    },
    {
      "cell_type" : "code",
      "execution_count" : 5,
      "metadata" : {
        "cell.metadata.exec_info" : {
          "startTs" : 1575349757044,
          "endTs" : 1575349757101
        },
        "language" : "python"
      },
      "language" : "python",
      "source" : [
        "# 求解线性方程组\r\n",
        "# 创建矩阵和数组\r\n",
        "A = np.mat(\"1 -2 1;0 2 -8;-4 5 9\") \r\n",
        "b = np.array([0,8,-9])\r\n",
        "\r\n",
        "# 调用solve函数求解线性方程组Ax = b, 其中 A 为矩阵，b 为一维或二维的数组，x 是未知变量\r\n",
        "x=np.linalg.solve(A,b)\r\n",
        "print ('%s * %s = %s'% (A,x,np.dot(A, x)))\r\n"
      ],
      "outputs" : [
        {
          "name" : "stdout",
          "text" : [
            "[[ 1 -2  1]\n",
            " [ 0  2 -8]\n",
            " [-4  5  9]] * [29. 16.  3.] = [[ 0.  8. -9.]]\n"
          ],
          "output_type" : "stream"
        }
      ]
    },
    {
      "cell_type" : "code",
      "execution_count" : 6,
      "metadata" : {
        "cell.metadata.exec_info" : {
          "startTs" : 1575354757581,
          "endTs" : 1575354757625
        },
        "language" : "python"
      },
      "language" : "python",
      "source" : [
        "b = np.array([[6,1,1], [4, -2, 5], [2,8,7]]) \r\n",
        "print('6*(-2*7 - 5*8) - 1*(4*7 - 5*2) + 1*(4*8 - -2*2)=', np.linalg.det(b))\r\n"
      ],
      "outputs" : [
        {
          "name" : "stdout",
          "text" : [
            "6*(-2*7 - 5*8) - 1*(4*7 - 5*2) + 1*(4*8 - -2*2)= -306.0\n"
          ],
          "output_type" : "stream"
        }
      ]
    },
    {
      "cell_type" : "code",
      "execution_count" : 7,
      "metadata" : {
        "cell.metadata.exec_info" : {
          "startTs" : 1575356213054,
          "endTs" : 1575356213127
        },
        "language" : "python"
      },
      "language" : "python",
      "source" : [
        "# 特征值和特征向量\r\n",
        "# A 是一个n阶方阵，如果存在标量a满足方程 Ax = ax，则a为A的特征值，x为A属于a的特征向量\r\n",
        "A = np.mat(\"3 -2;1 0\")\r\n",
        "print ('特征值',np.linalg.eigvals(A))\r\n",
        "print('特征值和特征向量:\\n', np.linalg.eig(A))\r\n",
        "\r\n",
        "a,x=np.linalg.eig(A)\r\n",
        "# 使用dot函数验证求得的解是否正确\r\n",
        "for i in range(len(a)):\r\n",
        "    print('---\\na=%s \\n x=%s \\n x[:,i]=%s \\n' % (a[i],x[i],x[:,i]))\r\n",
        "    print (\"Ax:\",np.dot(A,x[:,i]))\r\n",
        "    print (\"ax:\",a[i] * x[:,i])\r\n"
      ],
      "outputs" : [
        {
          "name" : "stdout",
          "text" : [
            "特征值 [2. 1.]\n",
            "特征值和特征向量:\n",
            " (array([2., 1.]), matrix([[0.89442719, 0.70710678],\n",
            "        [0.4472136 , 0.70710678]]))\n",
            "---\n",
            "a=2.0 \n",
            " x=[[0.89442719 0.70710678]] \n",
            " x[:,i]=[[0.89442719]\n",
            " [0.4472136 ]] \n",
            "\n",
            "Ax: [[1.78885438]\n",
            " [0.89442719]]\n",
            "ax: [[1.78885438]\n",
            " [0.89442719]]\n",
            "---\n",
            "a=1.0 \n",
            " x=[[0.4472136  0.70710678]] \n",
            " x[:,i]=[[0.70710678]\n",
            " [0.70710678]] \n",
            "\n",
            "Ax: [[0.70710678]\n",
            " [0.70710678]]\n",
            "ax: [[0.70710678]\n",
            " [0.70710678]]\n"
          ],
          "output_type" : "stream"
        }
      ]
    },
    {
      "cell_type" : "code",
      "execution_count" : 8,
      "metadata" : {
        "cell.metadata.exec_info" : {
          "startTs" : 1575356796359,
          "endTs" : 1575356796439
        },
        "language" : "python"
      },
      "language" : "python",
      "source" : [
        "# 奇异值分解（SVD，Singular Value Decomposition）\r\n",
        "# SVD是一种因子分解运算，将一个矩阵分解为3个矩阵的乘积\r\n",
        "# svd函数返回3个矩阵——U、Sigma和V，其中U和V是正交矩阵，Sigma包含输入矩阵的奇异值。\r\n",
        "\r\n",
        "A = np.mat(\"4 11 14;8 7 -2\")\r\n",
        "# 使用svd函数分解矩阵\r\n",
        "U,Sigma,V = np.linalg.svd(A,full_matrices=False)\r\n",
        "print(\"U=%s \\nV=%s:\" % (U,V))\r\n",
        "print (\"diag函数生成完整的奇异值矩阵, Sigma=%s\\n---\\n\" % Sigma, np.diag(Sigma))\r\n",
        "\r\n",
        "# 使用diag函数生成完整的奇异值矩阵。将分解出的3个矩阵相乘\r\n",
        "print ('验证：\\n', U * np.diag(Sigma) * V)\r\n"
      ],
      "outputs" : [
        {
          "name" : "stdout",
          "text" : [
            "U=[[-0.9486833  -0.31622777]\n",
            " [-0.31622777  0.9486833 ]] \n",
            "V=[[-0.33333333 -0.66666667 -0.66666667]\n",
            " [ 0.66666667  0.33333333 -0.66666667]]:\n",
            "diag函数生成完整的奇异值矩阵, Sigma=[18.97366596  9.48683298]\n",
            "---\n",
            " [[18.97366596  0.        ]\n",
            " [ 0.          9.48683298]]\n",
            "验证：\n",
            " [[ 4. 11. 14.]\n",
            " [ 8.  7. -2.]]\n"
          ],
          "output_type" : "stream"
        }
      ]
    },
    {
      "cell_type" : "code",
      "execution_count" : 9,
      "metadata" : {
        "cell.metadata.exec_info" : {
          "startTs" : 1575961245299,
          "endTs" : 1575961246660
        },
        "language" : "python"
      },
      "language" : "python",
      "source" : [
        "# 行列式 detA=|A|,是一个数值 \r\n",
        "# https://blog.csdn.net/DrIcetar/article/details/81297446\r\n",
        "\r\n",
        "A = np.mat(\"3 4;5 6\")\r\n",
        "print('3*6-4*5=',np.linalg.det(A))\r\n"
      ],
      "outputs" : [
        {
          "name" : "stdout",
          "text" : [
            "3*6-4*5=",
            " ",
            "-1.9999999999999971",
            "\n"
          ],
          "output_type" : "stream"
        }
      ]
    }
  ]
}