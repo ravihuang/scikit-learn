{
  "metadata" : {
    
  },
  "nbformat" : 4,
  "nbformat_minor" : 0,
  "cells" : [
    {
      "cell_type" : "code",
      "execution_count" : 2,
      "metadata" : {
        "cell.metadata.exec_info" : {
          "startTs" : 1575779619622,
          "endTs" : 1575779620055
        },
        "language" : "python"
      },
      "language" : "python",
      "source" : [
        "def normal_distribution(x, mean, sigma):\n",
        "    return (1 / (np.sqrt(2 * np.pi) * sigma)) * np.exp(- (x - mean)**2 / (2 * sigma**2))\n",
        "\n",
        "x = np.linspace(0, 6, 500)\n",
        "mean1 = 1\n",
        "mean2 = 1\n",
        "sigma1 = 0.1\n",
        "sigma2 = 0.3\n",
        "\n",
        "plt.figure(figsize=(10, 3), dpi=144)\n",
        "\n",
        "# sub plot 1\n",
        "plt.subplot(1, 2, 1)\n",
        "plt.title('Gaussian Distribution for $\\mu={0}, \\sigma={1}$'.format(mean1, sigma1))\n",
        "\n",
        "plt.xlim(0, 2)\n",
        "plt.ylim(0, 5)\n",
        "ax = plt.gca()                                  # gca 代表当前坐标轴，即 'get current axis'\n",
        "ax.spines['right'].set_color('none')            # 隐藏坐标轴\n",
        "ax.spines['top'].set_color('none')\n",
        "\n",
        "plt.plot(x, normal_distribution(x, mean1, sigma1), 'r-')\n",
        "\n",
        "# sub plot 2\n",
        "plt.subplot(1, 2, 2)\n",
        "plt.title('Gaussian Distribution for $\\mu={0}, \\sigma={1}$'.format(mean2, sigma2))\n",
        "\n",
        "plt.xlim(0, 2)\n",
        "plt.ylim(0, 5)\n",
        "ax = plt.gca()                                  # gca 代表当前坐标轴，即 'get current axis'\n",
        "ax.spines['right'].set_color('none')            # 隐藏坐标轴\n",
        "ax.spines['top'].set_color('none')\n",
        "\n",
        "plt.plot(x, normal_distribution(x, mean2, sigma2), 'r-')"
      ],
      "outputs" : [
      ]
    },
    {
      "cell_type" : "code",
      "execution_count" : 3,
      "metadata" : {
        "cell.metadata.exec_info" : {
          "startTs" : 1575779640552,
          "endTs" : 1575779640608
        },
        "language" : "python"
      },
      "language" : "python",
      "source" : [
        "normal_distribution(6, 5.855, np.sqrt(3.5033e-02))"
      ],
      "outputs" : [
        {
          "execution_count" : 3,
          "data" : {
            "text/plain" : [
              "1.5788861867228534"
            ]
          },
          "metadata" : {
            "name" : "Out",
            "type" : "TypedPythonObject[float64]"
          },
          "output_type" : "execute_result"
        }
      ]
    },
    {
      "cell_type" : "code",
      "execution_count" : 4,
      "metadata" : {
        "language" : "scala"
      },
      "language" : "scala",
      "source" : [
      ],
      "outputs" : [
      ]
    }
  ]
}