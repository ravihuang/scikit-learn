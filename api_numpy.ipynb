{
  "metadata" : {
    
  },
  "nbformat" : 4,
  "nbformat_minor" : 0,
  "cells" : [
    {
      "cell_type" : "code",
      "execution_count" : 2,
      "metadata" : {
        "cell.metadata.exec_info" : {
          "startTs" : 1575961401806,
          "endTs" : 1575961403757
        },
        "language" : "python"
      },
      "language" : "python",
      "source" : [
        "print('创建一维的narray对象: \\n',np.array([1,2,3,4,5]))\r\n",
        "print('等价于: \\n',np.arange(1,6))\r\n",
        "\r\n",
        "print('linspace生成一个等差数列:',np.linspace(1,5,5))\r\n",
        "print('logspace用于生成等比数列:',np.logspace(1,3,3)) # 在10^1 ～ 10^3之间生成3个数，组成等比数列\r\n",
        "print('创建3*4的全1矩阵: \\n',np.ones((3,4)))\r\n",
        "print('创建3*4的全0矩阵: \\n',np.zeros((3,4)))\r\n",
        "print('创建3阶单位矩阵: \\n', np.eye(3))\r\n",
        "print('创建3*4的空矩阵: \\n', np.empty((3,4)))\r\n",
        "\r\n",
        "#In[1] np.from*?\r\n",
        "print('获得字符串的ascii码序列fromstring: \\n',np.fromstring('abcdef',dtype=np.int8))\r\n",
        "print('获得字符串的ascii码序列frombuffer: \\n',np.frombuffer(b\"abcdef\", dtype =  'i1')) #i1等价于np.int8\r\n",
        "\r\n",
        "print('根据字符串生成矩阵S2: \\n',np.frombuffer(b\"abcdef\", dtype =  'S2')) # S2表示2个字符，等价于a2\r\n",
        "print('根据字符串生成矩阵a2: \\n',np.frombuffer(b\"abcdef\", dtype =  'a2')) # S2表示2个字符，等价于a2\r\n",
        "\r\n",
        "print('根据矩阵的行号列号生成矩阵: \\n',np.fromfunction(lambda x,y:x+y,(3,4)))\r\n",
        "print('复数矩阵：\\n',np.mat([[2,3-2j],[4+2j,1]]))\r\n",
        "#https://docs.scipy.org/doc/numpy/reference/generated/numpy.frombuffer.html\r\n",
        "\r\n",
        "a = np.arange(4).reshape(1,4)\r\n",
        "print(\"使用broadcast_to生产矩阵a=%s：\\n\"%a, np.broadcast_to(a,(4,4)))\r\n",
        "\r\n",
        "\r\n",
        "import tempfile\r\n",
        "fname = tempfile.mkstemp()[1]\r\n",
        "A=np.eye(3)\r\n",
        "A.tofile(fname)\r\n",
        "print('save A to file: ',A,fname)\r\n",
        "print('不建议使用：',np.fromfile(fname))\r\n",
        "\r\n",
        "np.save(fname,A)\r\n",
        "print('load ndarray: \\n',np.load(fname + '.npy'))\r\n",
        "\r\n",
        "print('根据iterator生成矩阵： ',np.fromiter(range(10),dtype=float))"
      ],
      "outputs" : [
        {
          "name" : "stdout",
          "text" : [
            "创建一维的narray对象: \n",
            " ",
            "[1 2 3 4 5]",
            "\n",
            "等价于: \n",
            " ",
            "[1 2 3 4 5]",
            "\n",
            "linspace生成一个等差数列:",
            " ",
            "[1. 2. 3. 4. 5.]",
            "\n",
            "logspace用于生成等比数列:",
            " ",
            "[  10.  100. 1000.]",
            "\n",
            "创建3*4的全1矩阵: \n",
            " ",
            "[[1. 1. 1. 1.]\n",
            " [1. 1. 1. 1.]\n",
            " [1. 1. 1. 1.]]",
            "\n",
            "创建3*4的全0矩阵: \n",
            " ",
            "[[0. 0. 0. 0.]\n",
            " [0. 0. 0. 0.]\n",
            " [0. 0. 0. 0.]]",
            "\n",
            "创建3阶单位矩阵: \n",
            " ",
            "[[1. 0. 0.]\n",
            " [0. 1. 0.]\n",
            " [0. 0. 1.]]",
            "\n",
            "创建3*4的空矩阵: \n",
            " ",
            "[[0. 0. 0. 0.]\n",
            " [0. 0. 0. 0.]\n",
            " [0. 0. 0. 0.]]",
            "\n",
            "获得字符串的ascii码序列fromstring: \n",
            " ",
            "[ 97  98  99 100 101 102]",
            "\n",
            "获得字符串的ascii码序列frombuffer: \n",
            " ",
            "[ 97  98  99 100 101 102]",
            "\n",
            "根据字符串生成矩阵S2: \n",
            " ",
            "[b'ab' b'cd' b'ef']",
            "\n",
            "根据字符串生成矩阵a2: \n",
            " ",
            "[b'ab' b'cd' b'ef']",
            "\n",
            "根据矩阵的行号列号生成矩阵: \n",
            " ",
            "[[0. 1. 2. 3.]\n",
            " [1. 2. 3. 4.]\n",
            " [2. 3. 4. 5.]]",
            "\n",
            "复数矩阵：\n",
            " ",
            "[[2.+0.j 3.-2.j]\n",
            " [4.+2.j 1.+0.j]]",
            "\n",
            "使用broadcast_to生产矩阵a=[[0 1 2 3]]：\n",
            " ",
            "[[0 1 2 3]\n",
            " [0 1 2 3]\n",
            " [0 1 2 3]\n",
            " [0 1 2 3]]",
            "\n",
            "save A to file: ",
            " ",
            "[[1. 0. 0.]\n",
            " [0. 1. 0.]\n",
            " [0. 0. 1.]]",
            " ",
            "/tmp/tmp4br4ih_w",
            "\n",
            "不建议使用：",
            " ",
            "[1. 0. 0. 0. 1. 0. 0. 0. 1.]",
            "\n",
            "load ndarray: \n",
            " ",
            "[[1. 0. 0.]\n",
            " [0. 1. 0.]\n",
            " [0. 0. 1.]]",
            "\n",
            "根据iterator生成矩阵： ",
            " ",
            "[0. 1. 2. 3. 4. 5. 6. 7. 8. 9.]",
            "\n"
          ],
          "output_type" : "stream"
        }
      ]
    },
    {
      "cell_type" : "code",
      "execution_count" : 3,
      "metadata" : {
        "cell.metadata.exec_info" : {
          "startTs" : 1575961161795,
          "endTs" : 1575961162110
        },
        "language" : "python"
      },
      "language" : "python",
      "source" : [
        "# 矩阵属性\r\n",
        "a = np.array([1,2,3,4,5])\r\n",
        "print('1维矩阵中元素个数：',a,a.shape)\r\n",
        "\r\n",
        "b = np.array([[1,2,3,4,5],\r\n",
        "              [6,7,8,9,10]])\r\n",
        "print('矩阵形状(行数和列数): \\n',b.shape)\r\n",
        "print('2维矩阵中元素个数：',b.size)\r\n",
        "print('维数: ',a.ndim,b.ndim)\r\n",
        "print('flat属性：',[i for i in b.flat])\r\n",
        "\r\n",
        "print('转换为列表： ',b.tolist())\r\n",
        "print('转换为列表： ',list(b))\r\n",
        "print('展平为1维ndarray： ',b.ravel(),type(b.ravel())) \r\n",
        "print('展平为1维ndarray： ',b.ravel(order=\"F\")) # C:按行，F:按列, A:原顺序，k:元素在内存中的出现顺序\r\n",
        "import scipy\r\n",
        "print('NumPy和SciPy相互转化: ',scipy.asarray(a),)\r\n",
        "\r\n",
        "# 矩阵切片\r\n",
        "print('1. ',b[0:1],b[0:1].shape)     #2维矩阵，第一行\r\n",
        "print('2. ',b[1,2:5],b[1,2:5].shape) #1维矩阵，第1行的2，3，4列\r\n",
        "\r\n",
        "print('3. ',b[1,:],b[1,:].shape)     # 1维矩阵，第2行的所有列\r\n",
        "print('4. ',b[b>3])                  # 1维矩阵，所有大于3的元素\r\n",
        "print('5. 布尔索引： ',b>3)                     # 2维矩阵，True/False组成\r\n",
        "\r\n",
        "a[a>3] = 0                     # 大于3的清零\r\n",
        "print('6. ',a)\r\n",
        "a = np.array([np.nan,  1,2,np.nan,3,4,5])  \r\n",
        "print('7. 过滤nan：',a[~np.isnan(a)])\r\n",
        "\r\n",
        "# 数据类型\r\n",
        "#https://blog.csdn.net/zhili_wang/article/details/81140282\r\n",
        "print('1. 数据类型',np.dtype('i4'),np.dtype('?'),np.dtype('f4'))\r\n",
        "print('2. 长度为1的字符串：',np.dtype('a1'),np.dtype('S1'))\r\n"
      ],
      "outputs" : [
        {
          "name" : "stdout",
          "text" : [
            "1维矩阵中元素个数： [1 2 3 4 5] (5,)\n",
            "矩阵形状(行数和列数): \n",
            " (2, 5)\n",
            "2维矩阵中元素个数： 10\n",
            "维数:  1 2\n",
            "flat属性： [1, 2, 3, 4, 5, 6, 7, 8, 9, 10]\n",
            "转换为列表：  [[1, 2, 3, 4, 5], [6, 7, 8, 9, 10]]\n",
            "转换为列表：  [array([1, 2, 3, 4, 5]), array([ 6,  7,  8,  9, 10])]\n",
            "展平为1维ndarray：  [ 1  2  3  4  5  6  7  8  9 10] <class 'numpy.ndarray'>\n",
            "展平为1维ndarray：  [ 1  6  2  7  3  8  4  9  5 10]\n",
            "NumPy和SciPy相互转化:  [1 2 3 4 5]\n",
            "1.  [[1 2 3 4 5]] (1, 5)\n",
            "2.  [ 8  9 10] (3,)\n",
            "3.  [ 6  7  8  9 10] (5,)\n",
            "4.  [ 4  5  6  7  8  9 10]\n",
            "5. 布尔索引：  [[False False False  True  True]\n",
            " [ True  True  True  True  True]]\n",
            "6.  [1 2 3 0 0]\n",
            "7. 过滤nan： [1. 2. 3. 4. 5.]\n",
            "1. 数据类型 int32 bool float32\n",
            "2. 长度为1的字符串： |S1 |S1\n"
          ],
          "output_type" : "stream"
        }
      ]
    },
    {
      "cell_type" : "code",
      "execution_count" : 4,
      "metadata" : {
        "cell.metadata.exec_info" : {
          "startTs" : 1575961164961,
          "endTs" : 1575961165188
        },
        "language" : "python"
      },
      "language" : "python",
      "source" : [
        "a1 = np.array([[4,5,6],[1,2,3]])\r\n",
        "a2 = np.array([[6,5,4],[3,2,1]])\r\n",
        "\r\n",
        "print('相加: \\n',       a1+a2)\r\n",
        "print('相除取商: \\n',    a1/a2)\r\n",
        "print('整数相除取商: \\n', a1//a2)\r\n",
        "print('相除取余数: \\n',   a1%a2)\r\n",
        "\r\n",
        "# 矩阵乘法必须满足矩阵乘法的条件，即第一个矩阵的列数等于第二个矩阵的行数。\r\n",
        "# 叉乘，内积\r\n",
        "a = np.array([[1,2,3],\r\n",
        "               [4,5,6]]) # a1为2*3矩阵\r\n",
        "b = np.array([[1,2],\r\n",
        "               [3,4],\r\n",
        "               [5,6]]) # a2为3*2矩阵\r\n",
        "\r\n",
        "print(a.shape[1]==b.shape[0]) # True, 满足矩阵乘法条件\r\n",
        "print(a.dot(b))               # 1*1+2*3+3*5  1*2+2*4+3*6\r\n",
        "                              # 4*1+5*3+6*5  4*2+5*4+6*6\r\n",
        "print('等价于： ',np.dot(a,b))\r\n"
      ],
      "outputs" : [
        {
          "name" : "stdout",
          "text" : [
            "相加: \n",
            " [[10 10 10]\n",
            " [ 4  4  4]]\n",
            "相除取商: \n",
            " [[0.66666667 1.         1.5       ]\n",
            " [0.33333333 1.         3.        ]]\n",
            "整数相除取商: \n",
            " [[0 1 1]\n",
            " [0 1 3]]\n",
            "相除取余数: \n",
            " [[4 0 2]\n",
            " [1 0 0]]\n",
            "True\n",
            "[[22 28]\n",
            " [49 64]]\n",
            "等价于：  [[22 28]\n",
            " [49 64]]\n"
          ],
          "output_type" : "stream"
        }
      ]
    },
    {
      "cell_type" : "code",
      "execution_count" : 5,
      "metadata" : {
        "cell.metadata.exec_info" : {
          "startTs" : 1575961168269,
          "endTs" : 1575961168411
        },
        "language" : "python"
      },
      "language" : "python",
      "source" : [
        "# 转置\r\n",
        "a = np.array([[1,2,3,4],\r\n",
        "              [5,6,7,8],\r\n",
        "              [9,10,11,12]])\r\n",
        "print(a.transpose())\r\n",
        "print(a.T)\r\n",
        "\r\n",
        "#改变形状\r\n",
        "print(\"4行3列的新数组,a不变:\",a.reshape(4,3))\r\n",
        "a.resize(4,3)\r\n",
        "print(\"4行3列的新数组:\",a)\r\n",
        "\r\n",
        "print('纵向拆分成2个矩阵：',np.array_split(a,2, axis=0))"
      ],
      "outputs" : [
        {
          "name" : "stdout",
          "text" : [
            "[[ 1  5  9]\n",
            " [ 2  6 10]\n",
            " [ 3  7 11]\n",
            " [ 4  8 12]]\n",
            "[[ 1  5  9]\n",
            " [ 2  6 10]\n",
            " [ 3  7 11]\n",
            " [ 4  8 12]]\n",
            "4行3列的新数组,a不变: [[ 1  2  3]\n",
            " [ 4  5  6]\n",
            " [ 7  8  9]\n",
            " [10 11 12]]\n",
            "4行3列的新数组: [[ 1  2  3]\n",
            " [ 4  5  6]\n",
            " [ 7  8  9]\n",
            " [10 11 12]]\n",
            "纵向拆分成2个矩阵： [array([[1, 2, 3],\n",
            "       [4, 5, 6]]), array([[ 7,  8,  9],\n",
            "       [10, 11, 12]])]\n"
          ],
          "output_type" : "stream"
        }
      ]
    },
    {
      "cell_type" : "code",
      "execution_count" : 6,
      "metadata" : {
        "cell.metadata.exec_info" : {
          "startTs" : 1575961171196,
          "endTs" : 1575961171417
        },
        "language" : "python"
      },
      "language" : "python",
      "source" : [
        "#统计函数\r\n",
        "a = np.array([[1,2,3],\r\n",
        "              [4,5,6]])\r\n",
        "print('最大值: ',a.max()) \r\n",
        "print('最小值: ',a.min()) \r\n",
        "print('每一列最大值（以下函数均支持axis参数）: ',a.max(axis=0))\r\n",
        "print('每一行最大值（以下函数均支持axis参数）: ',a.max(axis=1))\r\n",
        "\r\n",
        "print('均值:',a.mean())\r\n",
        "print('方差: ',a.var()) # 结果 2.91666666667\r\n",
        "print('标准差： ',a.std())\r\n",
        "print('中值: ',np.median(a))\r\n",
        "print('求和: ',a.sum())\r\n",
        "print('累积和: ',a.cumsum())\r\n",
        "print('最大值-最小值：',np.ptp(a),np.ptp(a,axis=0),np.ptp(a,axis=1))\r\n",
        "print('百分位数',np.percentile(a,40),np.percentile(a,50),np.percentile(a,60))\r\n",
        "\r\n",
        "a = np.array([1,2,3,4]) \r\n",
        "wts = np.array([4,3,2,1]) \r\n",
        "print('加权平均值：',np.average(a,weights = wts )) # (1*4+2*3+3*2+4*1)/(4+3+2+1)"
      ],
      "outputs" : [
        {
          "name" : "stdout",
          "text" : [
            "最大值:  6\n",
            "最小值:  1\n",
            "每一列最大值（以下函数均支持axis参数）:  [4 5 6]\n",
            "每一行最大值（以下函数均支持axis参数）:  [3 6]\n",
            "均值: 3.5\n",
            "方差:  2.9166666666666665\n",
            "标准差：  1.707825127659933\n",
            "中值:  3.5\n",
            "求和:  21\n",
            "累积和:  [ 1  3  6 10 15 21]\n",
            "最大值-最小值： 5 [3 3 3] [2 2]\n",
            "百分位数 3.0 3.5 4.0\n",
            "加权平均值： 2.0\n"
          ],
          "output_type" : "stream"
        }
      ]
    },
    {
      "cell_type" : "code",
      "execution_count" : 7,
      "metadata" : {
        "cell.metadata.exec_info" : {
          "startTs" : 1575349017176,
          "endTs" : 1575349017258
        },
        "language" : "python"
      },
      "language" : "python",
      "source" : [
        "# 矩阵遍历\r\n",
        "a = np.arange(0,20,5) \r\n",
        "print('1维矩阵：%s\\n迭代1：'%a)\r\n",
        "for x in np.nditer(a):  \r\n",
        "    print(x,end=' ')\r\n",
        "print('\\n迭代2：')\r\n",
        "for x in a:             # 与上面相同\r\n",
        "    print(x,end=' ')\r\n",
        "a = np.array([[1,2,3],[4,5,6]]) \r\n",
        "print('\\n2维矩阵：%s \\n迭代1:' % a)\r\n",
        "for x in np.nditer(a):  \r\n",
        "    print(x,end=' ')\r\n",
        "print('\\n迭代2：')\r\n",
        "for x in a:            # 与上面不同\r\n",
        "    print(x,end=' ')"
      ],
      "outputs" : [
        {
          "name" : "stdout",
          "text" : [
            "1维矩阵：[ 0  5 10 15]\n",
            "迭代1：\n",
            "0 5 10 15 \n",
            "迭代2：\n",
            "0 5 10 15 \n",
            "2维矩阵：[[1 2 3]\n",
            " [4 5 6]] \n",
            "迭代1:\n",
            "1 2 3 4 5 6 \n",
            "迭代2：\n",
            "[1 2 3] [4 5 6] "
          ],
          "output_type" : "stream"
        }
      ]
    },
    {
      "cell_type" : "code",
      "execution_count" : 8,
      "metadata" : {
        "cell.metadata.exec_info" : {
          "startTs" : 1575961175734,
          "endTs" : 1575961175894
        },
        "language" : "python"
      },
      "language" : "python",
      "source" : [
        "a = np.arange(0,30,5) \r\n",
        "b = a.reshape(3,2)  \r\n",
        " \r\n",
        "print(\"矩阵：\\n\",b)\r\n",
        "print('以C风格顺序排序：' )      # C:按行，F:按列, A:原顺序，k:元素在内存中的出现顺序\r\n",
        "for x in np.nditer(b, order =  'C'):  \r\n",
        "    print(x,end='  ')\r\n",
        "\r\n",
        "print('\\n以F风格顺序排序：')\r\n",
        "for x in np.nditer(b, order =  'F'):  \r\n",
        "    print(x,end='  ')\r\n"
      ],
      "outputs" : [
        {
          "name" : "stdout",
          "text" : [
            "矩阵：\n",
            " [[ 0  5]\n",
            " [10 15]\n",
            " [20 25]]\n",
            "以C风格顺序排序：\n",
            "0  5  10  15  20  25  \n",
            "以F风格顺序排序：\n",
            "0  10  20  5  15  25  "
          ],
          "output_type" : "stream"
        }
      ]
    },
    {
      "cell_type" : "code",
      "execution_count" : 9,
      "metadata" : {
        "cell.metadata.exec_info" : {
          "startTs" : 1575961178315,
          "endTs" : 1575961178426
        },
        "language" : "python"
      },
      "language" : "python",
      "source" : [
        "#swapaxes 交换数组的两个轴\r\n",
        "a=np.arange(8).reshape(2,2,2)\r\n",
        "b=np.swapaxes(a, 2, 0)\r\n",
        "\r\n",
        "print(a,b,sep='\\n---\\n')"
      ],
      "outputs" : [
        {
          "name" : "stdout",
          "text" : [
            "[[[0 1]\n",
            "  [2 3]]\n",
            "\n",
            " [[4 5]\n",
            "  [6 7]]]\n",
            "---\n",
            "[[[0 4]\n",
            "  [2 6]]\n",
            "\n",
            " [[1 5]\n",
            "  [3 7]]]\n"
          ],
          "output_type" : "stream"
        }
      ]
    },
    {
      "cell_type" : "code",
      "execution_count" : 10,
      "metadata" : {
        "cell.metadata.exec_info" : {
          "startTs" : 1575961181107,
          "endTs" : 1575961181283
        },
        "language" : "python"
      },
      "language" : "python",
      "source" : [
        "# broadcasting机制\r\n",
        "x = np.arange(4)\r\n",
        "xx = x.reshape(4,1)\r\n",
        "y = np.ones(5)\r\n",
        "z = np.ones((3,4))\r\n",
        "print(\"%s + %s = \\n%s\"% (xx,y,xx + y))\r\n",
        "print(\"-----\")\r\n",
        "print(\"%s + \\n %s = \\n %s\\n----\" % (x,z,x + z))\r\n",
        "\r\n",
        "a = np.array([0.0, 10.0, 20.0, 30.0])\r\n",
        "b = np.array([1.0, 2.0, 3.0])\r\n",
        "print(\"a=%s  b=%s \\n\" % (a,b),a[:, np.newaxis] + b)"
      ],
      "outputs" : [
        {
          "name" : "stdout",
          "text" : [
            "[[0]\n",
            " [1]\n",
            " [2]\n",
            " [3]] + [1. 1. 1. 1. 1.] = \n",
            "[[1. 1. 1. 1. 1.]\n",
            " [2. 2. 2. 2. 2.]\n",
            " [3. 3. 3. 3. 3.]\n",
            " [4. 4. 4. 4. 4.]]\n",
            "-----\n",
            "[0 1 2 3] + \n",
            " [[1. 1. 1. 1.]\n",
            " [1. 1. 1. 1.]\n",
            " [1. 1. 1. 1.]] = \n",
            " [[1. 2. 3. 4.]\n",
            " [1. 2. 3. 4.]\n",
            " [1. 2. 3. 4.]]\n",
            "----\n",
            "a=[ 0. 10. 20. 30.]  b=[1. 2. 3.] \n",
            " [[ 1.  2.  3.]\n",
            " [11. 12. 13.]\n",
            " [21. 22. 23.]\n",
            " [31. 32. 33.]]\n"
          ],
          "output_type" : "stream"
        }
      ]
    },
    {
      "cell_type" : "code",
      "execution_count" : 11,
      "metadata" : {
        "cell.metadata.exec_info" : {
          "startTs" : 1575961184042,
          "endTs" : 1575961184193
        },
        "language" : "python"
      },
      "language" : "python",
      "source" : [
        "#模拟broadcasting机制\r\n",
        "x = np.array([[1], [2], [3]]) \r\n",
        "y = np.array([4, 5, 6]) \r\n",
        "b = np.broadcast(x,y)  \r\n",
        "\r\n",
        "print(\"b.shape=\",b.shape)\r\n",
        "\r\n",
        "# 手动使用 broadcast 将 x 与 y 相加\r\n",
        "c = np.empty(b.shape) \r\n",
        "c.flat = [u + v for (u,v) in b] \r\n",
        "print(\"c=\",c)\r\n",
        "\r\n",
        "print(\"等价于：x + y=\\n\",x + y)"
      ],
      "outputs" : [
        {
          "name" : "stdout",
          "text" : [
            "b.shape= (3, 3)\n",
            "c= [[5. 6. 7.]\n",
            " [6. 7. 8.]\n",
            " [7. 8. 9.]]\n",
            "等价于：x + y=\n",
            " [[5 6 7]\n",
            " [6 7 8]\n",
            " [7 8 9]]\n"
          ],
          "output_type" : "stream"
        }
      ]
    },
    {
      "cell_type" : "code",
      "execution_count" : 12,
      "metadata" : {
        "cell.metadata.exec_info" : {
          "startTs" : 1575961186947,
          "endTs" : 1575961187040
        },
        "language" : "python"
      },
      "language" : "python",
      "source" : [
        "#squeeze删除1维\r\n",
        "x = np.arange(9).reshape(1,3,3)\r\n",
        "a = np.squeeze(x)\r\n",
        "print(\"before squeeze:\\n%s\\n after squeeze:\\n%s\"%(x,a))"
      ],
      "outputs" : [
        {
          "name" : "stdout",
          "text" : [
            "before squeeze:\n",
            "[[[0 1 2]\n",
            "  [3 4 5]\n",
            "  [6 7 8]]]\n",
            " after squeeze:\n",
            "[[0 1 2]\n",
            " [3 4 5]\n",
            " [6 7 8]]\n"
          ],
          "output_type" : "stream"
        }
      ]
    },
    {
      "cell_type" : "code",
      "execution_count" : 13,
      "metadata" : {
        "cell.metadata.exec_info" : {
          "startTs" : 1575961189314,
          "endTs" : 1575961189443
        },
        "language" : "python"
      },
      "language" : "python",
      "source" : [
        "# concatenate 矩阵合并\r\n",
        "a1 = np.array([[1,2],\r\n",
        "               [3,4]])\r\n",
        "a2 = np.array([[5,6],\r\n",
        "               [7,8]])\r\n",
        "\r\n",
        "print('1. 水平合并hstack\\n',np.hstack([a1,a2])) \r\n",
        "print(\"2. 水平合并concatenate：\\n\", np.concatenate((a1,a2), axis=1))\r\n",
        "\r\n",
        "print('3. 垂直合并vstack\\n',np.vstack([a1,a2])) \r\n",
        "print(\"4. 垂直合并concatenate：\\n\", np.concatenate((a1,a2), axis=0))\r\n",
        "\r\n",
        "x=np.hstack([a1,a2])\r\n",
        "print('水平分割%s：\\n'%x,np.hsplit(x,2))"
      ],
      "outputs" : [
        {
          "name" : "stdout",
          "text" : [
            "1. 水平合并hstack\n",
            " [[1 2 5 6]\n",
            " [3 4 7 8]]\n",
            "2. 水平合并concatenate：\n",
            " [[1 2 5 6]\n",
            " [3 4 7 8]]\n",
            "3. 垂直合并vstack\n",
            " [[1 2]\n",
            " [3 4]\n",
            " [5 6]\n",
            " [7 8]]\n",
            "4. 垂直合并concatenate：\n",
            " [[1 2]\n",
            " [3 4]\n",
            " [5 6]\n",
            " [7 8]]\n",
            "水平分割[[1 2 5 6]\n",
            " [3 4 7 8]]：\n",
            " [array([[1, 2],\n",
            "       [3, 4]]), array([[5, 6],\n",
            "       [7, 8]])]\n"
          ],
          "output_type" : "stream"
        }
      ]
    },
    {
      "cell_type" : "code",
      "execution_count" : 14,
      "metadata" : {
        "cell.metadata.exec_info" : {
          "startTs" : 1575961191954,
          "endTs" : 1575961192063
        },
        "language" : "python"
      },
      "language" : "python",
      "source" : [
        "#stack堆叠\r\n",
        "a = np.array([[1,2],[3,4]]) \r\n",
        "b = np.array([[5,6],[7,8]]) \r\n",
        "c=np.stack((a,b),0)\r\n",
        "print('沿轴0堆叠两个数组\\na=\\n%s\\nb=\\n%s\\nc=\\n%s\\nc.shape=%s'%(a,b,c,c.shape))\r\n",
        "c=np.stack((a,b),1)\r\n",
        "print('沿轴0堆叠两个数组\\na=\\n%s\\nb=\\n%s\\nc=\\n%s\\nc.shape=%s'%(a,b,c,c.shape))"
      ],
      "outputs" : [
        {
          "name" : "stdout",
          "text" : [
            "沿轴0堆叠两个数组\n",
            "a=\n",
            "[[1 2]\n",
            " [3 4]]\n",
            "b=\n",
            "[[5 6]\n",
            " [7 8]]\n",
            "c=\n",
            "[[[1 2]\n",
            "  [3 4]]\n",
            "\n",
            " [[5 6]\n",
            "  [7 8]]]\n",
            "c.shape=(2, 2, 2)\n",
            "沿轴0堆叠两个数组\n",
            "a=\n",
            "[[1 2]\n",
            " [3 4]]\n",
            "b=\n",
            "[[5 6]\n",
            " [7 8]]\n",
            "c=\n",
            "[[[1 2]\n",
            "  [5 6]]\n",
            "\n",
            " [[3 4]\n",
            "  [7 8]]]\n",
            "c.shape=(2, 2, 2)\n"
          ],
          "output_type" : "stream"
        }
      ]
    },
    {
      "cell_type" : "code",
      "execution_count" : 15,
      "metadata" : {
        "cell.metadata.exec_info" : {
          "startTs" : 1575961194501,
          "endTs" : 1575961194589
        },
        "language" : "python"
      },
      "language" : "python",
      "source" : [
        "# append\r\n",
        "a = np.array([[1,2,3],\r\n",
        "              [4,5,6]]) \r\n",
        " \r\n",
        "print('append：',np.append(a, [7,8,9]))\r\n",
        "print('沿轴 0 添加元素：', np.append(a, [[7,8,9]],axis = 0))\r\n",
        "print('沿轴 1 添加元素：',np.append(a, [[5,5,5],[7,8,9]],axis = 1))"
      ],
      "outputs" : [
        {
          "name" : "stdout",
          "text" : [
            "append： [1 2 3 4 5 6 7 8 9]\n",
            "沿轴 0 添加元素： [[1 2 3]\n",
            " [4 5 6]\n",
            " [7 8 9]]\n",
            "沿轴 1 添加元素： [[1 2 3 5 5 5]\n",
            " [4 5 6 7 8 9]]\n"
          ],
          "output_type" : "stream"
        }
      ]
    },
    {
      "cell_type" : "code",
      "execution_count" : 16,
      "metadata" : {
        "cell.metadata.exec_info" : {
          "startTs" : 1575961196910,
          "endTs" : 1575961196991
        },
        "language" : "python"
      },
      "language" : "python",
      "source" : [
        "#Insert\r\n",
        "a = np.array([[1,2],[3,4],[5,6]]) \r\n",
        "\r\n",
        "print('未传递Axis参数，数组展开后在第3个元素后插入：',np.insert(a,3,[11,12]))\r\n",
        "print('沿轴 0 广播：',np.insert(a,1,[11],axis = 0))\r\n",
        "print('沿轴 1 广播：',np.insert(a,1,11,axis = 1))\r\n"
      ],
      "outputs" : [
        {
          "name" : "stdout",
          "text" : [
            "未传递Axis参数，数组展开后在第3个元素后插入： [ 1  2  3 11 12  4  5  6]\n",
            "沿轴 0 广播： [[ 1  2]\n",
            " [11 11]\n",
            " [ 3  4]\n",
            " [ 5  6]]\n",
            "沿轴 1 广播： [[ 1 11  2]\n",
            " [ 3 11  4]\n",
            " [ 5 11  6]]\n"
          ],
          "output_type" : "stream"
        }
      ]
    },
    {
      "cell_type" : "code",
      "execution_count" : 17,
      "metadata" : {
        "cell.metadata.exec_info" : {
          "startTs" : 1575961199130,
          "endTs" : 1575961199212
        },
        "language" : "python"
      },
      "language" : "python",
      "source" : [
        "#delete\r\n",
        "a = np.arange(12).reshape(3,4) \r\n",
        " \r\n",
        "print('第一个数组:\\n',a)\r\n",
        "print('未传递Axis参数,数组展开后删除第6项：' ,np.delete(a,5) )\r\n",
        "print('删除第二列：\\n' ,np.delete(a,1,axis = 1))\r\n",
        "\r\n",
        "a = np.array([1,2,3,4,5,6,7,8,9,10]) \r\n",
        "print('包含从数组中删除的替代值的切片：', np.delete(a, np.s_[::2]))\r\n"
      ],
      "outputs" : [
        {
          "name" : "stdout",
          "text" : [
            "第一个数组:\n",
            " [[ 0  1  2  3]\n",
            " [ 4  5  6  7]\n",
            " [ 8  9 10 11]]\n",
            "未传递Axis参数,数组展开后删除第6项： [ 0  1  2  3  4  6  7  8  9 10 11]\n",
            "删除第二列：\n",
            " [[ 0  2  3]\n",
            " [ 4  6  7]\n",
            " [ 8 10 11]]\n",
            "包含从数组中删除的替代值的切片： [ 2  4  6  8 10]\n"
          ],
          "output_type" : "stream"
        }
      ]
    },
    {
      "cell_type" : "code",
      "execution_count" : 18,
      "metadata" : {
        "cell.metadata.exec_info" : {
          "startTs" : 1575961202138,
          "endTs" : 1575961202255
        },
        "language" : "python"
      },
      "language" : "python",
      "source" : [
        "#unique\r\n",
        "a = np.array([5,2,6,2,7,5,6,8,2,9]) \r\n",
        " \r\n",
        "print('去重：',a, np.unique(a))\r\n",
        "\r\n",
        "u,indices = np.unique(a, return_index = True) \r\n",
        "print('去重数组所对应的索引：',u,indices )\r\n",
        "\r\n",
        "u,indices = np.unique(a,return_inverse = True) \r\n",
        "print('去重元素的下标：',indices,all(u[indices]==a)) \r\n",
        "\r\n",
        "u,indices = np.unique(a,return_counts = True) \r\n",
        "print('去重元素的重复数量：',indices)"
      ],
      "outputs" : [
        {
          "name" : "stdout",
          "text" : [
            "去重： [5 2 6 2 7 5 6 8 2 9] [2 5 6 7 8 9]\n",
            "去重数组所对应的索引： [2 5 6 7 8 9] [1 0 2 4 7 9]\n",
            "去重元素的下标： [1 0 2 0 3 1 2 4 0 5] True\n",
            "去重元素的重复数量： [3 2 2 1 1 1]\n"
          ],
          "output_type" : "stream"
        }
      ]
    },
    {
      "cell_type" : "code",
      "execution_count" : 19,
      "metadata" : {
        "cell.metadata.exec_info" : {
          "startTs" : 1575961205655,
          "endTs" : 1575961205703
        },
        "language" : "python"
      },
      "language" : "python",
      "source" : [
        "#位运算\r\n",
        "print('13 和 17 的二进制形式：', bin(13), bin(241),\r\n",
        "                              np.binary_repr(13, width = 8),\r\n",
        "                              np.binary_repr(242, width = 8)) \r\n",
        "print('与：', np.bitwise_and(13, 242))\r\n",
        "print('或：', np.bitwise_or(13, 242))\r\n",
        "print('反转:', np.invert(np.array([13], dtype = np.uint8)))\r\n",
        "\r\n"
      ],
      "outputs" : [
        {
          "name" : "stdout",
          "text" : [
            "13 和 17 的二进制形式： 0b1101 0b11110001 00001101 11110010\n",
            "与： 0\n",
            "或： 255\n",
            "反转: [242]\n"
          ],
          "output_type" : "stream"
        }
      ]
    },
    {
      "cell_type" : "code",
      "execution_count" : 20,
      "metadata" : {
        "cell.metadata.exec_info" : {
          "startTs" : 1575961207962,
          "endTs" : 1575961208014
        },
        "language" : "python"
      },
      "language" : "python",
      "source" : [
        "#位移\r\n",
        "print(\"10和40的2进制：\",np.binary_repr(10, width = 8), np.binary_repr(40, width = 8))\r\n",
        "print('将 10 左移两位：',np.left_shift(10,2))\r\n",
        "print('将 40 右移两位：', np.right_shift(40,2))"
      ],
      "outputs" : [
        {
          "name" : "stdout",
          "text" : [
            "10和40的2进制： 00001010 00101000\n",
            "将 10 左移两位： 40\n",
            "将 40 右移两位： 10\n"
          ],
          "output_type" : "stream"
        }
      ]
    },
    {
      "cell_type" : "code",
      "execution_count" : 21,
      "metadata" : {
        "cell.metadata.exec_info" : {
          "startTs" : 1575961210351,
          "endTs" : 1575961210483
        },
        "language" : "python"
      },
      "language" : "python",
      "source" : [
        "#字符串处理，可以针对整个矩阵生效\r\n",
        "print('连接两个字符串：\\n', np.char.add(['hello'],[' xyz']),\r\n",
        "                          np.char.add(['hello', 'hi'],[' abc', ' xyz']))\r\n",
        "print('多重连接: ',np.char.multiply('Hello ',3))\r\n",
        "print('center: ',np.char.center('hello', 20,fillchar = '*'))\r\n",
        "print('capitalize: ',np.char.capitalize('hello world'))\r\n",
        "print('title: ',np.char.title('hello how are you?'))\r\n",
        "print('lower: ',np.char.lower(['HELLO','WORLD']))\r\n",
        "print('upper: ',np.char.upper([['hello'],['world']]))\r\n",
        "print('split: ',np.char.split ('TutorialsPoint,Hyderabad,Telangana', sep = ','))\r\n",
        "print('splitlines: ',np.char.splitlines('hello\\nhow are you?') )\r\n",
        "print('join: ', np.char.join(':','dmy'), np.char.join([':','-'],['dmy','ymd']))\r\n",
        "print('replace: ',np.char.replace ('He is a good boy', 'is', 'was'))\r\n",
        "\r\n",
        "a = np.char.encode('hello', 'cp500') \r\n",
        "print(\"encode and decode:\",a,np.char.decode(a,'cp500'))"
      ],
      "outputs" : [
        {
          "name" : "stdout",
          "text" : [
            "连接两个字符串：\n",
            " ['hello xyz'] ['hello abc' 'hi xyz']\n",
            "多重连接:  Hello Hello Hello \n",
            "center:  *******hello********\n",
            "capitalize:  Hello world\n",
            "title:  Hello How Are You?\n",
            "lower:  ['hello' 'world']\n",
            "upper:  [['HELLO']\n",
            " ['WORLD']]\n",
            "split:  ['TutorialsPoint', 'Hyderabad', 'Telangana']\n",
            "splitlines:  ['hello', 'how are you?']\n",
            "join:  d:m:y ['d:m:y' 'y-m-d']\n",
            "replace:  He was a good boy\n",
            "encode and decode: b'\\x88\\x85\\x93\\x93\\x96' hello\n"
          ],
          "output_type" : "stream"
        }
      ]
    },
    {
      "cell_type" : "code",
      "execution_count" : 22,
      "metadata" : {
        "cell.metadata.exec_info" : {
          "startTs" : 1575961213001,
          "endTs" : 1575961213137
        },
        "language" : "python"
      },
      "language" : "python",
      "source" : [
        "a=np.array([[11,1,2],[12,8,9]])\r\n",
        "print('最大值所在位置的索引：',a.argmax())\r\n",
        "print('每一行最大值所在位置的索引：',a.argmax(axis=1))\r\n",
        "print('每一行最小值所在位置的索引：',a.argmin(axis=1))\r\n",
        "print('索引为1的最小，索引为0的最大: \\n',a.argsort())\r\n",
        "\r\n",
        "print('对矩阵a中每个元素取正弦: ',np.sin(a))\t\r\n",
        "print('对矩阵a中每个元素取余弦: ',np.cos(a))\t\r\n",
        "print('对矩阵a中每个元素取正切: ',np.tan(a))\r\n",
        "print('对矩阵a中每个元素取反正弦: ', np.arcsin(a))\t\r\n",
        "print('对矩阵a中每个元素取反余弦: ',np.arccos(a))\r\n",
        "print('对矩阵a中每个元素取反正切: ',np.arctan(a))\r\n",
        "print('对矩阵a中每个元素取指数函数: ',np.exp(a))\r\n",
        "print('对矩阵a中每个元素开根号: ',np.sqrt(a))"
      ],
      "outputs" : [
        {
          "name" : "stdout",
          "text" : [
            "最大值所在位置的索引： 3\n",
            "每一行最大值所在位置的索引： [0 0]\n",
            "每一行最小值所在位置的索引： [1 1]\n",
            "索引为1的最小，索引为0的最大: \n",
            " [[1 2 0]\n",
            " [1 2 0]]\n",
            "对矩阵a中每个元素取正弦:  [[-0.99999021  0.84147098  0.90929743]\n",
            " [-0.53657292  0.98935825  0.41211849]]\n",
            "对矩阵a中每个元素取余弦:  [[ 0.0044257   0.54030231 -0.41614684]\n",
            " [ 0.84385396 -0.14550003 -0.91113026]]\n",
            "对矩阵a中每个元素取正切:  [[-225.95084645    1.55740772   -2.18503986]\n",
            " [  -0.63585993   -6.79971146   -0.45231566]]\n",
            "对矩阵a中每个元素取反正弦:  [[       nan 1.57079633        nan]\n",
            " [       nan        nan        nan]]\n",
            "对矩阵a中每个元素取反余弦:  [[nan  0. nan]\n",
            " [nan nan nan]]\n",
            "对矩阵a中每个元素取反正切:  [[1.48013644 0.78539816 1.10714872]\n",
            " [1.48765509 1.44644133 1.46013911]]\n",
            "对矩阵a中每个元素取指数函数:  [[5.98741417e+04 2.71828183e+00 7.38905610e+00]\n",
            " [1.62754791e+05 2.98095799e+03 8.10308393e+03]]\n",
            "对矩阵a中每个元素开根号:  [[3.31662479 1.         1.41421356]\n",
            " [3.46410162 2.82842712 3.        ]]\n"
          ],
          "output_type" : "stream"
        }
      ]
    },
    {
      "cell_type" : "code",
      "execution_count" : 23,
      "metadata" : {
        "cell.metadata.exec_info" : {
          "startTs" : 1575961215438,
          "endTs" : 1575961215537
        },
        "language" : "python"
      },
      "language" : "python",
      "source" : [
        "a = np.arange(9, dtype = np.float_).reshape(3,3)\r\n",
        "b = np.array([10,10,10])\r\n",
        "print('%s+\\n%s=\\n%s：'% (a,b, np.add(a,b)))\r\n",
        "print('两个数组相减：\\n', np.subtract(a,b))\r\n",
        "print('两个数组相乘：\\n', np.multiply(a,b))\r\n",
        "print('两个数组相除：\\n', np.divide(a,b))\r\n",
        "print('power运算：\\n', np.power(a,2))\r\n",
        "\r\n",
        "a = np.array([10,20,30]) \r\n",
        "b = np.array([3,5,7])  \r\n",
        "print('求余数：',np.mod(a,b),np.remainder(a,b))\r\n"
      ],
      "outputs" : [
        {
          "name" : "stdout",
          "text" : [
            "[[0. 1. 2.]\n",
            " [3. 4. 5.]\n",
            " [6. 7. 8.]]+\n",
            "[10 10 10]=\n",
            "[[10. 11. 12.]\n",
            " [13. 14. 15.]\n",
            " [16. 17. 18.]]：\n",
            "两个数组相减：\n",
            " [[-10.  -9.  -8.]\n",
            " [ -7.  -6.  -5.]\n",
            " [ -4.  -3.  -2.]]\n",
            "两个数组相乘：\n",
            " [[ 0. 10. 20.]\n",
            " [30. 40. 50.]\n",
            " [60. 70. 80.]]\n",
            "两个数组相除：\n",
            " [[0.  0.1 0.2]\n",
            " [0.3 0.4 0.5]\n",
            " [0.6 0.7 0.8]]\n",
            "power运算：\n",
            " [[ 0.  1.  4.]\n",
            " [ 9. 16. 25.]\n",
            " [36. 49. 64.]]\n",
            "求余数： [1 0 2] [1 0 2]\n"
          ],
          "output_type" : "stream"
        }
      ]
    },
    {
      "cell_type" : "code",
      "execution_count" : 24,
      "metadata" : {
        "cell.metadata.exec_info" : {
          "startTs" : 1575961217744,
          "endTs" : 1575961217825
        },
        "language" : "python"
      },
      "language" : "python",
      "source" : [
        "# reciprocal求倒数\r\n",
        "a = np.array([-1,0, 0.25,  1, 1.33, 100])  \r\n",
        "b = np.array([-1,1,2,10,100], dtype =  int)  \r\n",
        "\r\n",
        "print('求倒数:',np.reciprocal(a))\r\n",
        "print('绝对值大于1的整型的倒数均为0：',np.reciprocal(b))\r\n"
      ],
      "outputs" : [
        {
          "name" : "stdout",
          "text" : [
            "求倒数: [-1.               inf  4.         1.         0.7518797  0.01     ]\n",
            "绝对值大于1的整型的倒数均为0： [-1  1  0  0  0]\n"
          ],
          "output_type" : "stream"
        }
      ]
    },
    {
      "cell_type" : "code",
      "execution_count" : 25,
      "metadata" : {
        "cell.metadata.exec_info" : {
          "startTs" : 1575961219663,
          "endTs" : 1575961219753
        },
        "language" : "python"
      },
      "language" : "python",
      "source" : [
        "# 复数\r\n",
        "a = np.array([-5.6j,  0.2j,  11.  ,  1+1j])  \r\n",
        "print('我们的数组是：',a)\r\n",
        "print('实部： ', np.real(a))\r\n",
        "print('虚部： ', np.imag(a))\r\n",
        "print('共轭复数: ',np.conj(a))\r\n",
        "print('返回弧度： ',np.angle(a))\r\n",
        "print('返回角度： ',np.angle(a, deg =  True))"
      ],
      "outputs" : [
        {
          "name" : "stdout",
          "text" : [
            "我们的数组是： [-0.-5.6j  0.+0.2j 11.+0.j   1.+1.j ]\n",
            "实部：  [-0.  0. 11.  1.]\n",
            "虚部：  [-5.6  0.2  0.   1. ]\n",
            "共轭复数:  [-0.+5.6j  0.-0.2j 11.-0.j   1.-1.j ]\n",
            "返回弧度：  [-1.57079633  1.57079633  0.          0.78539816]\n",
            "返回角度：  [-90.  90.   0.  45.]\n"
          ],
          "output_type" : "stream"
        }
      ]
    },
    {
      "cell_type" : "code",
      "execution_count" : 26,
      "metadata" : {
        "cell.metadata.exec_info" : {
          "startTs" : 1575334867939,
          "endTs" : 1575334868051
        },
        "language" : "python"
      },
      "language" : "python",
      "source" : [
        "#排序与搜索\r\n",
        "a = np.array([[13,7],[9,10]])  \r\n",
        "print('原始矩阵： \\n',a)\r\n",
        "print('行内排序： \\n',np.sort(a))\r\n",
        "print('对行排序： \\n',np.sort(a, axis =  0))\r\n",
        "\r\n",
        "dt = np.dtype([('name',  'S10'),('age',  int)]) \r\n",
        "b = np.array([(\"raju\",21),(\"anil\",25),(\"ravi\",  17),  (\"amar\",27)], dtype = dt)  \r\n",
        "print('按name字段排序：',np.sort(b, order =  'name'))\r\n",
        "\r\n",
        "print('返回索引: \\n',np.argsort(a))\r\n",
        "\r\n",
        "c =  ('b3','a2','b4','a1') \r\n",
        "d =  ('a',  'b',  'b',  'a') \r\n",
        "ind = np.lexsort((d,c))\r\n",
        "print('lexsort的最后一个参数c是排序主键，其次是d：',ind)\r\n",
        "\r\n",
        "print([c[i]  +  \"+\"  + d[i]  for i in ind])"
      ],
      "outputs" : [
        {
          "name" : "stdout",
          "text" : [
            "原始矩阵： \n",
            " [[13  7]\n",
            " [ 9 10]]\n",
            "行内排序： \n",
            " [[ 7 13]\n",
            " [ 9 10]]\n",
            "对行排序： \n",
            " [[ 9  7]\n",
            " [13 10]]\n",
            "按name字段排序： [(b'amar', 27) (b'anil', 25) (b'raju', 21) (b'ravi', 17)]\n",
            "返回索引: \n",
            " [[1 0]\n",
            " [0 1]]\n",
            "lexsort的最后一个参数c是排序主键，其次是d： [3 1 0 2]\n",
            "['a1+a', 'a2+b', 'b3+a', 'b4+b']\n"
          ],
          "output_type" : "stream"
        }
      ]
    },
    {
      "cell_type" : "code",
      "execution_count" : 27,
      "metadata" : {
        "cell.metadata.exec_info" : {
          "startTs" : 1575335112074,
          "endTs" : 1575335112143
        },
        "language" : "python"
      },
      "language" : "python",
      "source" : [
        "# 查询\r\n",
        "x = np.arange(9.).reshape(3,3)\r\n",
        "y = np.where(x > 3)\r\n",
        "print(x,y,x[y])\r\n",
        "\r\n",
        "# 提取\r\n",
        "print(np.extract(np.mod(x,2)==0, x))\r\n"
      ],
      "outputs" : [
        {
          "name" : "stdout",
          "text" : [
            "[[0. 1. 2.]\n",
            " [3. 4. 5.]\n",
            " [6. 7. 8.]] (array([1, 1, 2, 2, 2]), array([1, 2, 0, 1, 2])) [4. 5. 6. 7. 8.]\n",
            "[0. 2. 4. 6. 8.]\n"
          ],
          "output_type" : "stream"
        }
      ]
    },
    {
      "cell_type" : "code",
      "execution_count" : 28,
      "metadata" : {
        "cell.metadata.exec_info" : {
          "startTs" : 1575335437275,
          "endTs" : 1575335437330
        },
        "language" : "python"
      },
      "language" : "python",
      "source" : [
        "# 字节交换\r\n",
        "a = np.array([1,  256,  8755], dtype = np.int16)  \r\n",
        "print(a,list(map(hex,a)))\r\n",
        "print(a.byteswap(True), list(map(hex,a)))\r\n"
      ],
      "outputs" : [
        {
          "name" : "stdout",
          "text" : [
            "[   1  256 8755] ['0x1', '0x100', '0x2233']\n",
            "[  256     1 13090] ['0x100', '0x1', '0x3322']\n"
          ],
          "output_type" : "stream"
        }
      ]
    },
    {
      "cell_type" : "code",
      "execution_count" : 29,
      "metadata" : {
        "cell.metadata.exec_info" : {
          "startTs" : 1575340010524,
          "endTs" : 1575340010603
        },
        "language" : "python"
      },
      "language" : "python",
      "source" : [
        "# copy\r\n",
        "a = np.arange(12)\r\n",
        "b = a\r\n",
        "print(id(a),id(b))\r\n",
        "\r\n",
        "# 浅copy\r\n",
        "c = a.view()\r\n",
        "d=c.reshape(3,4)\r\n",
        "print(id(a),id(c),id(d))\r\n",
        "print('修改view的shape不影响原矩阵：',a,d,sep='\\n---\\n')\r\n",
        "\r\n",
        "d[1,1]=100\r\n",
        "print('修改view中的数据原矩阵也会变：',a,d,sep='\\n---\\n')\r\n",
        "\r\n",
        "# 深copy\r\n",
        "e = a.copy()\r\n",
        "\r\n",
        "print('切片也是view,view没有自己的数据：',\r\n",
        "                [i.flags.owndata for i in [a,b,c,d,e,a[:3]]],\r\n",
        "                [i.base is a     for i in [a,b,c,d,e,a[:3]]],sep='\\n---\\n')\r\n"
      ],
      "outputs" : [
        {
          "name" : "stdout",
          "text" : [
            "140484225759552 140484225759552\n",
            "140484225759552 140484225759952 140484225760032\n",
            "修改view的shape不影响原矩阵：\n",
            "---\n",
            "[ 0  1  2  3  4  5  6  7  8  9 10 11]\n",
            "---\n",
            "[[ 0  1  2  3]\n",
            " [ 4  5  6  7]\n",
            " [ 8  9 10 11]]\n",
            "修改view中的数据原矩阵也会变：\n",
            "---\n",
            "[  0   1   2   3   4 100   6   7   8   9  10  11]\n",
            "---\n",
            "[[  0   1   2   3]\n",
            " [  4 100   6   7]\n",
            " [  8   9  10  11]]\n",
            "切片也是view,view没有自己的数据：\n",
            "---\n",
            "[True, True, False, False, True, False]\n",
            "---\n",
            "[False, False, True, True, False, True]\n"
          ],
          "output_type" : "stream"
        }
      ]
    },
    {
      "cell_type" : "code",
      "execution_count" : 30,
      "metadata" : {
        "language" : "python"
      },
      "language" : "python",
      "source" : [
      ],
      "outputs" : [
      ]
    }
  ]
}